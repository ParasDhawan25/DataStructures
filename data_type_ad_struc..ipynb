{
 "cells": [
  {
   "cell_type": "markdown",
   "id": "c856a5d8-c427-4655-b3b8-6584bc0b2816",
   "metadata": {},
   "source": [
    "# Theory questions\n"
   ]
  },
  {
   "cell_type": "code",
   "execution_count": null,
   "id": "3fa5f3eb-1e94-489f-9920-1cc5f06d3f5a",
   "metadata": {},
   "outputs": [],
   "source": [
    "'''\n",
    "1. What are data structures and why are they important?\n",
    "Ans   Data structures are ways to organize and store data efficiently. They're important because they help with fast access, better memory use, and solving real-world problems like searching, sorting, and managing data.\n",
    "      Examples:\n",
    "      List – store items in order\n",
    "      Tuple – fixed data collection\n",
    "      Set – unique items, fast checks\n",
    "      Dict (dictionary) – key-value lookups\n",
    "      Deque – fast queue operations\n",
    "      In short: Good Python data structures = faster, cleaner, and smarter code.\n",
    "\n",
    "\n",
    "2. Explain the difference between mutable and immutable data types with examples?\n",
    "Ans     Property\t                      Mutable\t                           Immutable\n",
    "        Can be changed after creation\t   Yes\t                                  No\n",
    "        Memory address\t                  Stays the same after change\t          Changes if altered\n",
    "        Examples\t                      list, dict, set, bytearray\t          int, float, str, tuple, bool\n",
    "\n",
    "\n",
    "3. What are the main differences between lists and tuples in Python?\n",
    "Ans    Lists:\n",
    "         Mutable: You can change, add, or remove elements after creation.\n",
    "         Syntax: Defined using square brackets, e.g., [1, 2, 3].\n",
    "         Slower: Slightly less efficient due to their flexibility.\n",
    "         More Methods: Support many built-in methods like append(), pop(), remove(), etc.\n",
    "         Use Case: Suitable when the data needs to be modified.\n",
    "\n",
    "       Tuples:\n",
    "         Immutable: Once created, elements cannot be changed.\n",
    "         Syntax: Defined using parentheses, e.g., (1, 2, 3).\n",
    "         Faster: More efficient due to fixed size and immutability.\n",
    "         Fewer Methods: Support limited methods like count() and index().\n",
    "         Use Case: Suitable for fixed data that should not change, like constants or keys in dictionaries.\n",
    "\n",
    "4.Describe how dictionaries store data?\n",
    "Ans     Dictionaries in Python store data as key-value pairs using a hash table internally. \n",
    "        Each key is hashed to find a unique memory location, allowing for fast access (O(1) time complexity). \n",
    "        Keys must be unique and immutable, while values can be of any type.\n",
    "\n",
    "\n",
    "5.Why might you use a set instead of a list in Python?\n",
    "Ans     You might use a set instead of a list when:\n",
    "\n",
    "        You need only unique values\n",
    "        Sets automatically remove duplicates.\n",
    "        Example: set([1, 2, 2, 3]) → {1, 2, 3}\n",
    "\n",
    "        You need fast membership checks\n",
    "        x in my_set is faster than x in my_list (average O(1) vs O(n))\n",
    "        \n",
    "        You need to perform set operations\n",
    "        Like union (|), intersection (&), difference (-)\n",
    "\n",
    "\n",
    "6.What is a string in Python, and how is it different from a list?\n",
    "Ans    A string in Python is an immutable sequence of characters, like \"hello\".\n",
    "       It differs from a list because strings can't be changed after creation, while lists are mutable and can store any data type.\n",
    "\n",
    "\n",
    "7.How do tuples ensure data integrity in Python?\n",
    "Ans    Tuples ensure data integrity in Python because they are immutable, meaning their values cannot be changed after creation. \n",
    "       This prevents accidental modifications, making them ideal for storing constant or fixed data that must stay the same throughout the program.\n",
    "\n",
    "\n",
    "8. What is a hash table, and how does it relate to dictionaries in Python?\n",
    "Ans    A hash table is a data structure that stores data in key-value pairs using a hash function to compute an index for each key.\n",
    "       This allows for fast data access (average O(1) time).In Python, a dictionary is implemented using a hash table.\n",
    "       When you store a key-value pair in a dictionary, Python hashes the key to find where to store the value in memory.\n",
    "       This makes lookups, insertions, and deletions very efficient.\n",
    "\n",
    "\n",
    "9.Can lists contain different data types in Python?\n",
    "Ans    Yes, lists in Python can contain different data types.\n",
    "       You can store integers, strings, floats, or even other lists and objects in the same list.\n",
    "\n",
    "\n",
    "10. Explain why strings are immutable in Python?\n",
    "Ans    Strings are immutable in Python to ensure data safety, performance, and consistency. Once a string is created, it cannot be changed — any operation that modifies it creates a new string instead.\n",
    "       Why immutability is useful:\n",
    "       Safe for sharing in multiple places without unexpected changes\n",
    "       Hashable, so strings can be used as dictionary keys\n",
    "       Optimized for speed and memory\n",
    "\n",
    "\n",
    "11.What advantages do dictionaries offer over lists for certain tasks?\n",
    "Ans    Advantages of Dictionaries Over Lists in Python:\n",
    "       Faster Lookups\n",
    "       Dictionaries offer O(1) time for searching by key, while lists take O(n) time to search by value.\n",
    "       \n",
    "       Key-Value Storage\n",
    "       Dictionaries store data as key-value pairs, making it easier to access data using meaningful keys instead of index numbers.\n",
    "\n",
    "       Better Data Organization\n",
    "       Ideal for storing related data (e.g., a person's name, age, and address).\n",
    "\n",
    "       No Need to Remember Indexes\n",
    "       You can access data like student[\"name\"] instead of student[0].\n",
    "\n",
    "\n",
    "12.Describe a scenario where using a tuple would be preferable over a list.\n",
    "Ans    Use a tuple when data is constant and must remain unchanged, such as coordinates, configuration settings, or dictionary keys.\n",
    "\n",
    "\n",
    "13.How do sets handle duplicate values in Python?\n",
    "Ans      Sets in Python automatically remove duplicate values. When you add elements to a set, only unique items are kept — duplicates are ignored.\n",
    "\n",
    "\n",
    "14.How does the “in” keyword work differently for lists and dictionaries?\n",
    "Ans       In a list:\n",
    "          in checks if a value exists in the list.\n",
    "          3 in [1, 2, 3]  #True\n",
    "\n",
    "          In a dictionary:\n",
    "          in checks if a key exists (not the value).\n",
    "          'name' in {\"name\": \"Alice\", \"age\": 20}  #True\n",
    "          'Alice' in {\"name\": \"Alice\"}  #False\n",
    "\n",
    "\n",
    "15.Can you modify the elements of a tuple? Explain why or why not?\n",
    "Ans       No, you cannot modify the elements of a tuple in Python because tuples are immutable.\n",
    "          Once a tuple is created, its contents cannot be changed, meaning you can't add, remove, or update its elements.\n",
    "\n",
    "          Tuples are designed to protect data from accidental changes\n",
    "          This makes them safe for use as dictionary keys or in fixed configurations\n",
    "\n",
    "\n",
    "16.What is a nested dictionary, and give an example of its use case?\n",
    "Ans       A nested dictionary is a dictionary inside another dictionary. It allows you to store complex, structured data like records within records.\n",
    "          Example:\n",
    "          students = {\n",
    "          \"101\": {\"name\": \"Alice\", \"age\": 20},\n",
    "          \"102\": {\"name\": \"Bob\", \"age\": 22}\n",
    "           }\n",
    "          \n",
    "          Use Case:\n",
    "          Nested dictionaries are useful for representing real-world data like:\n",
    "          Student records\n",
    "          Employee details\n",
    "\n",
    "\n",
    "17.Describe the time complexity of accessing elements in a dictionary?\n",
    "Ans       Accessing elements in a Python dictionary by key has average-case time complexity of O(1) (constant time), thanks to its underlying hash table implementation.\n",
    "\n",
    "\n",
    "\n",
    "18.In what situations are lists preferred over dictionaries?\n",
    "Ans       Lists are better than dictionaries when:\n",
    "\n",
    "          You need an ordered collection of items\n",
    "          Lists preserve insertion order and support indexing (e.g., my_list[0]).\n",
    "\n",
    "          You don’t need key-value pairs\n",
    "          Lists are simple sequences; dictionaries are for labeled data.\n",
    "\n",
    "          You need to store duplicate values\n",
    "          Lists allow duplicates; dictionaries require unique keys.\n",
    "          \n",
    "          You plan to sort or slice the data\n",
    "          Lists have built-in methods like sort(), slicing (list[1:3]), etc.\n",
    "\n",
    "\n",
    "19.Why are dictionaries considered unordered, and how does that affect data retrieval?\n",
    "Ans       Dictionaries are considered unordered because you access data by key, not by order, and they don’t support index-based operations like lists.\n",
    "\n",
    "\n",
    "\n",
    "20.Explain the difference between a list and a dictionary in terms of data retrieval?\n",
    "Ans        Feature\t        List                                Dictionary\n",
    "           Access Method\tBy index (position)\t                By key (name/label)\n",
    "           Syntax\t        my_list[0]\t                        my_dict[\"name\"]\n",
    "           Speed\t        Slower for searching (O(n))\t        Faster key-based lookup (average O(1))\n",
    "           Use Case\t        When order and duplicates matter\tWhen you need fast access using unique labels\n",
    "\n",
    "'''"
   ]
  },
  {
   "cell_type": "markdown",
   "id": "d54ef3fa-cf14-41da-b0b5-cf990d6f5747",
   "metadata": {},
   "source": [
    "# Pracical questions"
   ]
  },
  {
   "cell_type": "code",
   "execution_count": 1,
   "id": "f8d5230c-3a75-4d67-a44d-459a3a3c26fe",
   "metadata": {},
   "outputs": [
    {
     "name": "stdout",
     "output_type": "stream",
     "text": [
      "Paras Dhawan\n"
     ]
    }
   ],
   "source": [
    "#1.Write a code to create a string with your name and print it?\n",
    "name = \"Paras Dhawan\"\n",
    "print(name)"
   ]
  },
  {
   "cell_type": "code",
   "execution_count": 2,
   "id": "86776625-b317-4516-8c2d-a634af3bdedd",
   "metadata": {},
   "outputs": [
    {
     "name": "stdout",
     "output_type": "stream",
     "text": [
      "11\n"
     ]
    }
   ],
   "source": [
    "#2.Write a code to find the length of the string \"Hello World\".\n",
    "given=\"Hello World\"\n",
    "print(len(given))"
   ]
  },
  {
   "cell_type": "code",
   "execution_count": 3,
   "id": "499f27b7-c5eb-4272-a8d9-12c570070789",
   "metadata": {},
   "outputs": [
    {
     "name": "stdout",
     "output_type": "stream",
     "text": [
      "Pyt\n"
     ]
    }
   ],
   "source": [
    "#3.Write a code to slice the first 3 characters from the string \"Python Programming\"?\n",
    "text = \"Python Programming\"\n",
    "slice = text[:3]\n",
    "print(slice)"
   ]
  },
  {
   "cell_type": "code",
   "execution_count": 4,
   "id": "919d8a49-f7ae-48ab-b6bd-387a3fd3dc74",
   "metadata": {},
   "outputs": [
    {
     "name": "stdout",
     "output_type": "stream",
     "text": [
      "HELLO\n"
     ]
    }
   ],
   "source": [
    "#4.Write a code to convert the string \"hello\" to uppercase?\n",
    "text = \"hello\"\n",
    "uppercase_text = text.upper()\n",
    "print(uppercase_text)\n"
   ]
  },
  {
   "cell_type": "code",
   "execution_count": 5,
   "id": "581c891d-9111-4748-b7c9-434828d2a317",
   "metadata": {},
   "outputs": [
    {
     "name": "stdout",
     "output_type": "stream",
     "text": [
      "I like orange\n"
     ]
    }
   ],
   "source": [
    "#5.Write a code to replace the word \"apple\" with \"orange\" in the string \"I like apple\"\n",
    "text = \"I like apple\"\n",
    "new_text = text.replace(\"apple\", \"orange\")\n",
    "print(new_text)\n"
   ]
  },
  {
   "cell_type": "code",
   "execution_count": 6,
   "id": "47df40cc-7644-4f3c-a41f-d3c38dcea5d2",
   "metadata": {},
   "outputs": [
    {
     "name": "stdout",
     "output_type": "stream",
     "text": [
      "[1, 2, 3, 4, 5]\n"
     ]
    }
   ],
   "source": [
    "#6.Write a code to create a list with numbers 1 to 5 and print it.\n",
    "numbers = [1, 2, 3, 4, 5]\n",
    "print(numbers)\n"
   ]
  },
  {
   "cell_type": "code",
   "execution_count": 7,
   "id": "04ad1c37-0c52-45ce-aea3-c11e32c3e540",
   "metadata": {},
   "outputs": [
    {
     "name": "stdout",
     "output_type": "stream",
     "text": [
      "[1, 2, 3, 4, 10]\n"
     ]
    }
   ],
   "source": [
    "#7.Write a code to append the number 10 to the list [1, 2, 3, 4]?\n",
    "my_list = [1, 2, 3, 4]\n",
    "my_list.append(10)\n",
    "print(my_list)\n"
   ]
  },
  {
   "cell_type": "code",
   "execution_count": 8,
   "id": "4ac45d76-8c17-43b6-8703-0551d255da5c",
   "metadata": {},
   "outputs": [
    {
     "name": "stdout",
     "output_type": "stream",
     "text": [
      "[1, 2, 4, 5]\n"
     ]
    }
   ],
   "source": [
    "#8.Write a code to remove the number 3 from the list [1, 2, 3, 4, 5]?\n",
    "my_list = [1, 2, 3, 4, 5]\n",
    "my_list.remove(3)\n",
    "print(my_list)\n"
   ]
  },
  {
   "cell_type": "code",
   "execution_count": 9,
   "id": "9637085e-62e2-483f-b236-6d11b9447140",
   "metadata": {},
   "outputs": [
    {
     "name": "stdout",
     "output_type": "stream",
     "text": [
      "b\n"
     ]
    }
   ],
   "source": [
    "#9.Write a code to access the second element in the list ['a', 'b', 'c', 'd']?\n",
    "letters = ['a', 'b', 'c', 'd']\n",
    "print(letters[1])  # Indexing starts at 0\n"
   ]
  },
  {
   "cell_type": "code",
   "execution_count": 10,
   "id": "7bbb655e-14e6-4d5a-b51b-fdbee1dc7ac1",
   "metadata": {},
   "outputs": [
    {
     "name": "stdout",
     "output_type": "stream",
     "text": [
      "[50, 40, 30, 20, 10]\n"
     ]
    }
   ],
   "source": [
    "#10.Write a code to reverse the list [10, 20, 30, 40, 50]?\n",
    "numbers = [10, 20, 30, 40, 50]\n",
    "numbers.reverse()\n",
    "print(numbers)\n"
   ]
  },
  {
   "cell_type": "code",
   "execution_count": 11,
   "id": "142f8fad-428d-4895-af67-1e2e3bd672c6",
   "metadata": {},
   "outputs": [
    {
     "name": "stdout",
     "output_type": "stream",
     "text": [
      "(100, 200, 300)\n"
     ]
    }
   ],
   "source": [
    "#11. Write a code to create a tuple with the elements 100, 200, 300 and print it?\n",
    "my_tuple = (100, 200, 300)\n",
    "print(my_tuple)\n"
   ]
  },
  {
   "cell_type": "code",
   "execution_count": 12,
   "id": "2beeee7a-0273-4d05-b2a2-f47b7b9ec83b",
   "metadata": {},
   "outputs": [
    {
     "name": "stdout",
     "output_type": "stream",
     "text": [
      "blue\n"
     ]
    }
   ],
   "source": [
    "#12. Write a code to access the second-to-last element of the tuple ('red', 'green', 'blue', 'yellow').\n",
    "colors = ('red', 'green', 'blue', 'yellow')\n",
    "print(colors[-2])  # Second-to-last element\n"
   ]
  },
  {
   "cell_type": "code",
   "execution_count": 13,
   "id": "bc0f70b0-25e0-4a0c-9e05-57a45068d99c",
   "metadata": {},
   "outputs": [
    {
     "name": "stdout",
     "output_type": "stream",
     "text": [
      "5\n"
     ]
    }
   ],
   "source": [
    "#13.Write a code to find the minimum number in the tuple (10, 20, 5, 15)\n",
    "numbers = (10, 20, 5, 15)\n",
    "print(min(numbers))\n"
   ]
  },
  {
   "cell_type": "code",
   "execution_count": 15,
   "id": "a8ce02bd-f17a-4727-bb60-8261b79bda73",
   "metadata": {},
   "outputs": [
    {
     "name": "stdout",
     "output_type": "stream",
     "text": [
      "1\n"
     ]
    }
   ],
   "source": [
    "#14.Write a code to find the index of the element \"cat\" in the tuple ('dog', 'cat', 'rabbit').\n",
    "animals = ('dog', 'cat', 'rabbit')\n",
    "print(animals.index(\"cat\"))\n"
   ]
  },
  {
   "cell_type": "code",
   "execution_count": 16,
   "id": "e11949d4-4377-49b6-b525-db9d3fe57d57",
   "metadata": {},
   "outputs": [
    {
     "name": "stdout",
     "output_type": "stream",
     "text": [
      "True\n"
     ]
    }
   ],
   "source": [
    "#15.Write a code to create a tuple containing three different fruits and check if \"kiwi\" is in it.\n",
    "fruits = (\"apple\", \"banana\", \"kiwi\")\n",
    "print(\"kiwi\" in fruits)\n"
   ]
  },
  {
   "cell_type": "code",
   "execution_count": 18,
   "id": "266bee15-7f5c-4021-a777-c266622a8bc1",
   "metadata": {},
   "outputs": [
    {
     "name": "stdout",
     "output_type": "stream",
     "text": [
      "{'b', 'a', 'c'}\n"
     ]
    }
   ],
   "source": [
    "#16.Write a code to create a set with the elements 'a', 'b', 'c' and print it\n",
    "my_set = {'a', 'b', 'c'}\n",
    "print(my_set)\n"
   ]
  },
  {
   "cell_type": "code",
   "execution_count": 19,
   "id": "55969efe-7863-4610-91ef-7ea5348b638d",
   "metadata": {},
   "outputs": [
    {
     "name": "stdout",
     "output_type": "stream",
     "text": [
      "set()\n"
     ]
    }
   ],
   "source": [
    "#17. Write a code to clear all elements from the set {1, 2, 3, 4, 5}\n",
    "s = {1, 2, 3, 4, 5}\n",
    "s.clear()\n",
    "print(s)\n"
   ]
  },
  {
   "cell_type": "code",
   "execution_count": 20,
   "id": "72c1a97e-237b-4348-86fb-8059c3ad2e7a",
   "metadata": {},
   "outputs": [
    {
     "name": "stdout",
     "output_type": "stream",
     "text": [
      "{1, 2, 3}\n"
     ]
    }
   ],
   "source": [
    "#18. Write a code to remove the element 4 from the set {1, 2, 3, 4}\n",
    "s = {1, 2, 3, 4}\n",
    "s.remove(4)\n",
    "print(s)\n"
   ]
  },
  {
   "cell_type": "code",
   "execution_count": 21,
   "id": "060d4445-83aa-4cec-aed1-22aaecc9f553",
   "metadata": {},
   "outputs": [
    {
     "name": "stdout",
     "output_type": "stream",
     "text": [
      "{1, 2, 3, 4, 5}\n"
     ]
    }
   ],
   "source": [
    "#19.Write a code to find the union of two sets {1, 2, 3} and {3, 4, 5}.\n",
    "a = {1, 2, 3}\n",
    "b = {3, 4, 5}\n",
    "print(a.union(b))\n"
   ]
  },
  {
   "cell_type": "code",
   "execution_count": 22,
   "id": "baac9989-f874-4d18-8736-e7f7560296cb",
   "metadata": {},
   "outputs": [
    {
     "name": "stdout",
     "output_type": "stream",
     "text": [
      "{2, 3}\n"
     ]
    }
   ],
   "source": [
    "#20.Write a code to find the intersection of two sets {1, 2, 3} and {2, 3, 4}\n",
    "a = {1, 2, 3}\n",
    "b = {2, 3, 4}\n",
    "print(a.intersection(b))\n"
   ]
  },
  {
   "cell_type": "code",
   "execution_count": 23,
   "id": "7516e394-c9cf-4a79-a9da-a02bd2aca230",
   "metadata": {},
   "outputs": [
    {
     "name": "stdout",
     "output_type": "stream",
     "text": [
      "{'name': 'John', 'age': 25, 'city': 'New York'}\n"
     ]
    }
   ],
   "source": [
    "#21Write a code to create a dictionary with the keys \"name\", \"age\", and \"city\", and print it?\n",
    "person = {\"name\": \"John\", \"age\": 25, \"city\": \"New York\"}\n",
    "print(person)\n"
   ]
  },
  {
   "cell_type": "code",
   "execution_count": 24,
   "id": "9a53dd17-c342-4c88-b4ab-d0f4155458ea",
   "metadata": {},
   "outputs": [
    {
     "name": "stdout",
     "output_type": "stream",
     "text": [
      "{'name': 'John', 'age': 25, 'country': 'USA'}\n"
     ]
    }
   ],
   "source": [
    "#22Write a code to add a new key-value pair \"country\": \"USA\" to the dictionary {'name': 'John', 'age': 25}\n",
    "person = {'name': 'John', 'age': 25}\n",
    "person[\"country\"] = \"USA\"\n",
    "print(person)\n"
   ]
  },
  {
   "cell_type": "code",
   "execution_count": 26,
   "id": "79ba26a2-6c33-45bb-89ef-9df97cd4edd8",
   "metadata": {},
   "outputs": [
    {
     "name": "stdout",
     "output_type": "stream",
     "text": [
      "Alice\n"
     ]
    }
   ],
   "source": [
    "#23Write a code to access the value associated with the key \"name\" in the dictionary {'name': 'Alice', 'age': 30}\n",
    "person = {'name': 'Alice', 'age': 30}\n",
    "print(person[\"name\"])\n"
   ]
  },
  {
   "cell_type": "code",
   "execution_count": 27,
   "id": "0dcc9e74-f78b-4f9f-8ed6-9a4b47f84004",
   "metadata": {},
   "outputs": [
    {
     "name": "stdout",
     "output_type": "stream",
     "text": [
      "{'name': 'Bob', 'city': 'New York'}\n"
     ]
    }
   ],
   "source": [
    "#24 Write a code to remove the key \"age\" from the dictionary {'name': 'Bob', 'age': 22, 'city': 'New York'}\n",
    "person = {'name': 'Bob', 'age': 22, 'city': 'New York'}\n",
    "del person[\"age\"]\n",
    "print(person)\n"
   ]
  },
  {
   "cell_type": "code",
   "execution_count": 28,
   "id": "27fd01fd-e597-4ca6-821f-be2f69d959b9",
   "metadata": {},
   "outputs": [
    {
     "name": "stdout",
     "output_type": "stream",
     "text": [
      "True\n"
     ]
    }
   ],
   "source": [
    "#25 Write a code to check if the key \"city\" exists in the dictionary {'name': 'Alice', 'city': 'Paris'}.\n",
    "person = {'name': 'Alice', 'city': 'Paris'}\n",
    "print(\"city\" in person)\n"
   ]
  },
  {
   "cell_type": "code",
   "execution_count": 29,
   "id": "92ca8b3d-7fa6-49f3-83e6-aafd46f172f4",
   "metadata": {},
   "outputs": [
    {
     "name": "stdout",
     "output_type": "stream",
     "text": [
      "[1, 2, 3]\n",
      "(4, 5, 6)\n",
      "{'a': 1, 'b': 2}\n"
     ]
    }
   ],
   "source": [
    "#26 Write a code to create a list, a tuple, and a dictionary, and print them all.\n",
    "my_list = [1, 2, 3]\n",
    "my_tuple = (4, 5, 6)\n",
    "my_dict = {\"a\": 1, \"b\": 2}\n",
    "print(my_list)\n",
    "print(my_tuple)\n",
    "print(my_dict)\n"
   ]
  },
  {
   "cell_type": "code",
   "execution_count": 30,
   "id": "7b61f2c0-5252-43a4-9360-297af992a61c",
   "metadata": {},
   "outputs": [
    {
     "name": "stdout",
     "output_type": "stream",
     "text": [
      "[4, 29, 35, 52, 69]\n"
     ]
    }
   ],
   "source": [
    "#27Write a code to create a list of 5 random numbers between 1 and 100, sort it in ascending order, and print the result.(replaced)\n",
    "import random\n",
    "numbers = random.sample(range(1, 101), 5)\n",
    "numbers.sort()\n",
    "print(numbers)\n"
   ]
  },
  {
   "cell_type": "code",
   "execution_count": 31,
   "id": "ec056977-9055-46c0-9a05-1ce2ac8e20c4",
   "metadata": {},
   "outputs": [
    {
     "name": "stdout",
     "output_type": "stream",
     "text": [
      "date\n"
     ]
    }
   ],
   "source": [
    "#28. Write a code to create a list with strings and print the element at the third index.\n",
    "words = [\"apple\", \"banana\", \"cherry\", \"date\", \"elderberry\"]\n",
    "print(words[3])\n"
   ]
  },
  {
   "cell_type": "code",
   "execution_count": 32,
   "id": "7c566274-d5d9-4108-b1fa-87cc18474cb1",
   "metadata": {},
   "outputs": [
    {
     "name": "stdout",
     "output_type": "stream",
     "text": [
      "{'a': 1, 'b': 2, 'c': 3, 'd': 4}\n"
     ]
    }
   ],
   "source": [
    "#29.  Write a code to combine two dictionaries into one and print the result\n",
    "\n",
    "dict1 = {\"a\": 1, \"b\": 2}\n",
    "dict2 = {\"c\": 3, \"d\": 4}\n",
    "combined = {**dict1, **dict2}\n",
    "print(combined)\n"
   ]
  },
  {
   "cell_type": "code",
   "execution_count": 33,
   "id": "174ae8e6-c0cb-4f79-a1a8-683b518e2039",
   "metadata": {},
   "outputs": [
    {
     "name": "stdout",
     "output_type": "stream",
     "text": [
      "{'cherry', 'apple', 'banana'}\n"
     ]
    }
   ],
   "source": [
    "#30. Write a code to convert a list of strings into a set\n",
    "fruits = [\"apple\", \"banana\", \"apple\", \"cherry\"]\n",
    "fruit_set = set(fruits)\n",
    "print(fruit_set)\n"
   ]
  },
  {
   "cell_type": "code",
   "execution_count": null,
   "id": "b3a6946d-7e26-4fd1-b507-2aa9c0618b0a",
   "metadata": {},
   "outputs": [],
   "source": []
  }
 ],
 "metadata": {
  "kernelspec": {
   "display_name": "Python 3 (ipykernel)",
   "language": "python",
   "name": "python3"
  },
  "language_info": {
   "codemirror_mode": {
    "name": "ipython",
    "version": 3
   },
   "file_extension": ".py",
   "mimetype": "text/x-python",
   "name": "python",
   "nbconvert_exporter": "python",
   "pygments_lexer": "ipython3",
   "version": "3.12.7"
  }
 },
 "nbformat": 4,
 "nbformat_minor": 5
}
